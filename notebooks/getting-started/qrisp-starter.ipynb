{
 "cells": [
  {
   "attachments": {},
   "cell_type": "markdown",
   "id": "13ce3e15",
   "metadata": {},
   "source": "# Getting started with Qrisp on IQM\n\n:::{admonition} Download this Notebook\n:class: tip\n\n{download}`Download qrisp-starter.ipynb </_static/qrisp-starter.ipynb>` to run locally on your machine.\n:::\n\nQrisp is a quantum programming language build around the concept of quantum variables. It is designed to be a high-level language that is easy to use and understand. Qrisp is a great tool for beginners to learn quantum computing and for experts to quickly prototype quantum algorithms. It offers a fresh take on quantum programming. You can learn more about Qrisp on the official website: [https://qrisp.eu/](https://qrisp.eu/).\n\n\nIn this notebook, you will learn how to ...\n* ... get started with Qrisp.\n* ... run a Qrisp program on an IQM backend both mock and real device.\n\nThis notebook is from https://www.iqmacademy.com/learn/qrisp/00-intro/ with few edits to make it simpler to use on IQM device `Sirius`\n\n*note:* you can run this notebook with token.txt file next to it\n\n### Installing the necessary packages\nIn order to get started, make sure you have the appropriate packages installed. Make sure that you install qrisp with the iqm extension."
  },
  {
   "cell_type": "code",
   "execution_count": null,
   "id": "18db38ae",
   "metadata": {},
   "outputs": [],
   "source": [
    "%%capture\n",
    "\n",
    "%pip install qrisp[iqm]\n",
    "# On some systems, you may need to use quotes around the extras:\n",
    "#!pip install \"qrisp[iqm]\""
   ]
  },
  {
   "attachments": {},
   "cell_type": "markdown",
   "id": "853eed3d",
   "metadata": {},
   "source": [
    "### Imports\n",
    "\n",
    "In order to use Qrisp, you need to import the `qrisp` package. You can do this by running `from qrisp import *`  \n",
    "\n",
    "ofcourse it is not the best practice to import everything like this, but for the sake of simplicity in this notebook we do it."
   ]
  },
  {
   "cell_type": "code",
   "execution_count": 2,
   "id": "4d2c9406",
   "metadata": {},
   "outputs": [],
   "source": [
    "from qrisp import *\n",
    "from qrisp.interface import IQMBackend"
   ]
  },
  {
   "cell_type": "markdown",
   "id": "b7d1573d",
   "metadata": {},
   "source": [
    "Qrisp provides advanced quantum data types such as QuantumFloat that we will use in this example. In this example we wil encode a 2 it will multiply it with itself and then measure the result. \n",
    "\n",
    "Let's run it on a simulator first."
   ]
  },
  {
   "cell_type": "code",
   "execution_count": 3,
   "id": "aa2b6d22",
   "metadata": {},
   "outputs": [
    {
     "name": "stdout",
     "output_type": "stream",
     "text": [
      "                                                                                     \u001b[2K\r"
     ]
    },
    {
     "data": {
      "text/plain": [
       "{2: 1.0}"
      ]
     },
     "execution_count": 3,
     "metadata": {},
     "output_type": "execute_result"
    }
   ],
   "source": [
    "a = QuantumFloat(2)\n",
    "a[:] = 2\n",
    "a.get_measurement()"
   ]
  },
  {
   "attachments": {},
   "cell_type": "markdown",
   "id": "37081f56",
   "metadata": {},
   "source": [
    "## Running on IQM Resonance\n",
    "\n",
    "Now let's run circuits on IQM Resonance. IQM provides both real quantum hardware and a mock backend for testing.\n",
    "\n",
    "### Token Authentication\n",
    "\n",
    "To access IQM quantum computers, you need an API Token. Get one at [https://resonance.meetiqm.com/](https://resonance.meetiqm.com/) by clicking \"Create Token\" in the side panel.\n",
    "\n",
    "**Note**: Here, We will use IQM Sirius (16 qubits, 0.30 credits/second) as it's the most cost-effective option and can perform this demo efficiently."
   ]
  },
  {
   "cell_type": "code",
   "execution_count": 4,
   "id": "9ed3ea8b",
   "metadata": {},
   "outputs": [
    {
     "name": "stderr",
     "output_type": "stream",
     "text": [
      "/Users/karim/Library/Python/3.12/lib/python/site-packages/tqdm/auto.py:21: TqdmWarning: IProgress not found. Please update jupyter and ipywidgets. See https://ipywidgets.readthedocs.io/en/stable/user_install.html\n",
      "  from .autonotebook import tqdm as notebook_tqdm\n",
      "/Users/karim/Library/Python/3.12/lib/python/site-packages/iqm/iqm_client/iqm_client.py:147: UserWarning: Your IQM Client version 30.2.0 was built for a different version of IQM Server. You might encounter issues. For the best experience, consider using a version of IQM Client that satisfies 29.2.0 <= iqm-client < 30.0.\n",
      "  warnings.warn(version_incompatibility_msg)\n"
     ]
    }
   ],
   "source": [
    "with open('token.txt', 'r') as f:\n",
    "    token = f.read().strip()\n",
    "\n",
    "# IQM Backend for Sirius (mock Hardware)\n",
    "iqm_mock = IQMBackend(api_token = token, device_instance = \"sirius:mock\")\n",
    "\n",
    "# IQM Backend for Sirius (real Hardware)\n",
    "iqm_sirius = IQMBackend(api_token = token, device_instance = \"sirius\")"
   ]
  },
  {
   "cell_type": "markdown",
   "id": "f9096281",
   "metadata": {},
   "source": [
    "### Compare all three runs: Simulator vs Mock vs Real Hardware\n",
    "\n",
    "This will consume credits (0.30 credits/second)."
   ]
  },
  {
   "cell_type": "code",
   "execution_count": 5,
   "id": "f65e6ed3",
   "metadata": {},
   "outputs": [
    {
     "name": "stdout",
     "output_type": "stream",
     "text": [
      "Qrisp Simulator:  {2: 1.0}                                                           \u001b[2K\n",
      "Simulator: Perfect (no noise)\n",
      "IQM Mock Backend: {0: 1.0}\n",
      "Mock: Simulates IQM backend behavior (with noise model), zero credits used\n",
      "IQM Sirius (Real): {2: 0.972, 0: 0.022, 3: 0.006}\n",
      "Real Hardware with actual NISQ noise\n"
     ]
    }
   ],
   "source": [
    "# \n",
    "# local simulator\n",
    "a = QuantumFloat(2)\n",
    "a[:] = 2\n",
    "sim_result = a.get_measurement()\n",
    "print(f\"Qrisp Simulator:  {sim_result}\")\n",
    "print(\"Simulator: Perfect (no noise)\")\n",
    "\n",
    "# mock backend on IQM resonance\n",
    "a = QuantumFloat(2)\n",
    "a[:] = 2\n",
    "mock_result = a.get_measurement(backend=iqm_mock, shots=500)\n",
    "print(f\"IQM Mock Backend: {mock_result}\")\n",
    "print(\"Mock: Simulates IQM backend behavior (with noise model), zero credits used\")\n",
    "\n",
    "# real hardware backend on IQM sirius\n",
    "a = QuantumFloat(2)\n",
    "a[:] = 2\n",
    "iqm_result = a.get_measurement(backend=iqm_sirius, shots=500)\n",
    "print(f\"IQM Sirius (Real): {iqm_result}\")\n",
    "print(\"Real Hardware with actual NISQ noise\")"
   ]
  },
  {
   "cell_type": "code",
   "execution_count": null,
   "id": "0c10fd85",
   "metadata": {},
   "outputs": [],
   "source": []
  },
  {
   "cell_type": "code",
   "execution_count": null,
   "id": "3355d87b",
   "metadata": {},
   "outputs": [],
   "source": []
  },
  {
   "attachments": {},
   "cell_type": "markdown",
   "id": "cd7d3ccd",
   "metadata": {},
   "source": [
    "**Tip**: Always test on the mock backend first before using real hardware to avoid wasting credits!"
   ]
  }
 ],
 "metadata": {
  "kernelspec": {
   "display_name": "Python 3",
   "language": "python",
   "name": "python3"
  },
  "language_info": {
   "codemirror_mode": {
    "name": "ipython",
    "version": 3
   },
   "file_extension": ".py",
   "mimetype": "text/x-python",
   "name": "python",
   "nbconvert_exporter": "python",
   "pygments_lexer": "ipython3",
   "version": "3.12.11"
  }
 },
 "nbformat": 4,
 "nbformat_minor": 5
}